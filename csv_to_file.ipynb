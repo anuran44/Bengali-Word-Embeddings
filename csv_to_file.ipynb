{
 "cells": [
  {
   "cell_type": "code",
   "execution_count": 1,
   "id": "74be82c0",
   "metadata": {},
   "outputs": [
    {
     "name": "stdout",
     "output_type": "stream",
     "text": [
      "✅ Cleaned text saved to: computer_content_cleaned.txt\n"
     ]
    }
   ],
   "source": [
    "import pandas as pd\n",
    "import re\n",
    "\n",
    "# Load CSV file\n",
    "file_path = \"Computer Dataset.csv\"  # change path if needed\n",
    "df = pd.read_csv(file_path)\n",
    "\n",
    "# Output file path\n",
    "output_file = \"computer_content_cleaned.txt\"\n",
    "\n",
    "# Function to clean text (remove special characters)\n",
    "def clean_text(text):\n",
    "    # Remove all special characters except Bengali/English letters, numbers, and spaces\n",
    "    text = re.sub(r\"[^a-zA-Z0-9\\u0980-\\u09FF\\s]\", \"\", text)\n",
    "    # Remove extra spaces\n",
    "    text = re.sub(r\"\\s+\", \" \", text)\n",
    "    return text.strip()\n",
    "\n",
    "# Process each content line\n",
    "all_lines = []\n",
    "for content in df[\"Content\"].dropna():\n",
    "    # Split by \"|\" and clean each line\n",
    "    lines = [clean_text(line) for line in content.split(\"|\") if line.strip()]\n",
    "    all_lines.extend(lines)\n",
    "\n",
    "# Write each line to a text file\n",
    "with open(output_file, \"w\", encoding=\"utf-8\") as f:\n",
    "    for line in all_lines:\n",
    "        f.write(line + \"\\n\")\n",
    "\n",
    "print(f\"✅ Cleaned text saved to: {output_file}\")\n"
   ]
  }
 ],
 "metadata": {
  "kernelspec": {
   "display_name": "Python 3",
   "language": "python",
   "name": "python3"
  },
  "language_info": {
   "codemirror_mode": {
    "name": "ipython",
    "version": 3
   },
   "file_extension": ".py",
   "mimetype": "text/x-python",
   "name": "python",
   "nbconvert_exporter": "python",
   "pygments_lexer": "ipython3",
   "version": "3.10.0"
  }
 },
 "nbformat": 4,
 "nbformat_minor": 5
}
